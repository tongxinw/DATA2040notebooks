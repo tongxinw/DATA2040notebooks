{
  "nbformat": 4,
  "nbformat_minor": 0,
  "metadata": {
    "colab": {
      "name": "ssh-and-vscode-setup.ipynb",
      "provenance": [],
      "collapsed_sections": [],
      "include_colab_link": true
    },
    "kernelspec": {
      "name": "python3",
      "display_name": "Python 3"
    },
    "accelerator": "GPU"
  },
  "cells": [
    {
      "cell_type": "markdown",
      "metadata": {
        "id": "view-in-github",
        "colab_type": "text"
      },
      "source": [
        "<a href=\"https://colab.research.google.com/github/tongxinw/DATA2040notebooks/blob/master/ssh_and_vscode_setup.ipynb\" target=\"_parent\"><img src=\"https://colab.research.google.com/assets/colab-badge.svg\" alt=\"Open In Colab\"/></a>"
      ]
    },
    {
      "cell_type": "markdown",
      "metadata": {
        "id": "h8Qv6UcwcWh9",
        "colab_type": "text"
      },
      "source": [
        "# Setting up SSH and VSCODE on Colab\n",
        "DATA2040 <br>\n",
        "2020-04-14 <br>\n",
        "Dan Potter <br>\n",
        "[Lecture Recording](https://brown.zoom.us/rec/share/vdwkD-6h1n1LRInrr2H0QpAAP4nMX6a82igd-vRbzksLLI68UFsUbGlN9YzWIavy?startTime=1586883757000)"
      ]
    },
    {
      "cell_type": "markdown",
      "metadata": {
        "id": "5YfR9JFAN05q",
        "colab_type": "text"
      },
      "source": [
        "## System aliases (Review)\n",
        "Jupyter includes shortcuts for common shell operations, such as 'ls'.  You can execute any of these in a cell by prefixing them with `!`. Results can be assigned, and string interpolation from python via {variables} and $variables works. Below is an example."
      ]
    },
    {
      "cell_type": "code",
      "metadata": {
        "id": "w2i3KPlfPaLQ",
        "colab_type": "code",
        "outputId": "23c74702-dc23-46d0-ff1e-b3b5cefedfe8",
        "colab": {
          "base_uri": "https://localhost:8080/",
          "height": 306
        }
      },
      "source": [
        "dir = '/bin'\n",
        "!ls -m {dir} \n",
        "\n",
        "\n",
        "message = 'Colaboratory is great!'\n",
        "foo = !echo -e '$message\\n$message'\n",
        "print('\\nThe variable foo contains the output of echo: \\n\\n', foo)\n"
      ],
      "execution_count": 0,
      "outputs": [
        {
          "output_type": "stream",
          "text": [
            "bash, bunzip2, bzcat, bzcmp, bzdiff, bzegrep, bzexe, bzfgrep, bzgrep, bzip2,\n",
            "bzip2recover, bzless, bzmore, cat, chgrp, chmod, chown, cp, dash, date, dd, df,\n",
            "dir, dmesg, dnsdomainname, domainname, echo, egrep, false, fgrep, findmnt,\n",
            "fusermount, grep, gunzip, gzexe, gzip, hostname, journalctl, kill, kmod, less,\n",
            "lessecho, lessfile, lesskey, lesspipe, ln, login, loginctl, ls, lsblk, lsmod,\n",
            "mkdir, mknod, mktemp, more, mount, mountpoint, mv, networkctl, nisdomainname,\n",
            "pidof, ps, pwd, rbash, readlink, rm, rmdir, run-parts, sed, sh, sh.distrib,\n",
            "sleep, stty, su, sync, systemctl, systemd, systemd-ask-password, systemd-escape,\n",
            "systemd-hwdb, systemd-inhibit, systemd-machine-id-setup, systemd-notify,\n",
            "systemd-sysusers, systemd-tmpfiles, systemd-tty-ask-password-agent, tar,\n",
            "tempfile, touch, true, udevadm, ulockmgr_server, umount, uname, uncompress,\n",
            "vdir, wdctl, which, ypdomainname, zcat, zcmp, zdiff, zegrep, zfgrep, zforce,\n",
            "zgrep, zless, zmore, znew\n",
            "\n",
            "The variable foo contains the output of echo: \n",
            "\n",
            " ['Colaboratory is great!', 'Colaboratory is great!']\n"
          ],
          "name": "stdout"
        }
      ]
    },
    {
      "cell_type": "markdown",
      "metadata": {
        "id": "K6L8MEHgAIhp",
        "colab_type": "text"
      },
      "source": [
        "## Magics (Review)\n",
        "Magic commands add additional functionality to Noteooks.\n",
        "\n",
        "Line %magics work on the current line. \n",
        "Cell %%magics apply to a whole cell.\n",
        "\n",
        "Remarks:\n",
        "\n",
        "Line %magics always start with a % character. \n",
        "* `%automagic` Makes magic functions callable without having to type the initial %. `%automagic on` is the default in colab.\n",
        "* Cell %%magics apply to an entire cell, and need to be on its very first line.\n",
        "\n",
        "### Introspection:\n",
        "You can learn more about available magics using `%magic`, '%lsmagic' and `?`"
      ]
    },
    {
      "cell_type": "code",
      "metadata": {
        "id": "ow36x_Bw_VZR",
        "colab_type": "code",
        "colab": {}
      },
      "source": [
        "%magic        \n",
        "# Full descriptions of all magics (scroll down)"
      ],
      "execution_count": 0,
      "outputs": []
    },
    {
      "cell_type": "code",
      "metadata": {
        "id": "6UumSALp_Fnm",
        "colab_type": "code",
        "colab": {}
      },
      "source": [
        "%magic -brief\n",
        "# Short descriptions of all magics (scroll down)"
      ],
      "execution_count": 0,
      "outputs": []
    },
    {
      "cell_type": "code",
      "metadata": {
        "id": "_VhkFDtbJUyR",
        "colab_type": "code",
        "colab": {}
      },
      "source": [
        "%automagic?\n",
        "# Adding ? to the end of a magic will display its docstring."
      ],
      "execution_count": 0,
      "outputs": []
    },
    {
      "cell_type": "code",
      "metadata": {
        "id": "q53MdsH5JTLP",
        "colab_type": "code",
        "outputId": "e3db7c9f-6eef-4b22-d535-cbfc8b969377",
        "colab": {
          "base_uri": "https://localhost:8080/",
          "height": 156
        }
      },
      "source": [
        "%lsmagic\n",
        "# Return a list of available magics"
      ],
      "execution_count": 0,
      "outputs": [
        {
          "output_type": "execute_result",
          "data": {
            "application/json": {
              "cell": {
                "prun": "ExecutionMagics",
                "file": "Other",
                "!": "OSMagics",
                "capture": "ExecutionMagics",
                "timeit": "ExecutionMagics",
                "script": "ScriptMagics",
                "pypy": "Other",
                "system": "OSMagics",
                "perl": "Other",
                "html": "DisplayMagics",
                "bash": "Other",
                "shell": "Other",
                "HTML": "Other",
                "python": "Other",
                "SVG": "Other",
                "javascript": "DisplayMagics",
                "bigquery": "Other",
                "js": "DisplayMagics",
                "writefile": "OSMagics",
                "ruby": "Other",
                "python3": "Other",
                "python2": "Other",
                "latex": "DisplayMagics",
                "sx": "OSMagics",
                "svg": "DisplayMagics",
                "sh": "Other",
                "time": "ExecutionMagics",
                "debug": "ExecutionMagics"
              },
              "line": {
                "psource": "NamespaceMagics",
                "logstart": "LoggingMagics",
                "popd": "OSMagics",
                "tensorflow_version": "Other",
                "loadpy": "CodeMagics",
                "colors": "BasicMagics",
                "who_ls": "NamespaceMagics",
                "lf": "Other",
                "ll": "Other",
                "pprint": "BasicMagics",
                "lk": "Other",
                "ls": "Other",
                "save": "CodeMagics",
                "tb": "ExecutionMagics",
                "lx": "Other",
                "pylab": "PylabMagics",
                "killbgscripts": "ScriptMagics",
                "quickref": "BasicMagics",
                "magic": "BasicMagics",
                "dhist": "OSMagics",
                "edit": "KernelMagics",
                "logstop": "LoggingMagics",
                "gui": "BasicMagics",
                "prun": "ExecutionMagics",
                "debug": "ExecutionMagics",
                "page": "BasicMagics",
                "logstate": "LoggingMagics",
                "ed": "Other",
                "pushd": "OSMagics",
                "timeit": "ExecutionMagics",
                "set_env": "OSMagics",
                "rehashx": "OSMagics",
                "hist": "Other",
                "qtconsole": "KernelMagics",
                "rm": "Other",
                "dirs": "OSMagics",
                "run": "ExecutionMagics",
                "reset_selective": "NamespaceMagics",
                "pinfo2": "NamespaceMagics",
                "matplotlib": "PylabMagics",
                "unload_ext": "ExtensionMagics",
                "doctest_mode": "BasicMagics",
                "logoff": "LoggingMagics",
                "reload_ext": "ExtensionMagics",
                "pdb": "ExecutionMagics",
                "load": "CodeMagics",
                "lsmagic": "BasicMagics",
                "autosave": "KernelMagics",
                "cd": "OSMagics",
                "pastebin": "CodeMagics",
                "alias_magic": "BasicMagics",
                "cp": "Other",
                "autocall": "AutoMagics",
                "ldir": "Other",
                "bookmark": "OSMagics",
                "connect_info": "KernelMagics",
                "mkdir": "Other",
                "system": "OSMagics",
                "whos": "NamespaceMagics",
                "rmdir": "Other",
                "automagic": "AutoMagics",
                "store": "StoreMagics",
                "more": "KernelMagics",
                "shell": "Other",
                "pdef": "NamespaceMagics",
                "precision": "BasicMagics",
                "pinfo": "NamespaceMagics",
                "pwd": "OSMagics",
                "psearch": "NamespaceMagics",
                "reset": "NamespaceMagics",
                "recall": "HistoryMagics",
                "xdel": "NamespaceMagics",
                "xmode": "BasicMagics",
                "cat": "Other",
                "mv": "Other",
                "rerun": "HistoryMagics",
                "logon": "LoggingMagics",
                "history": "HistoryMagics",
                "pycat": "OSMagics",
                "pip": "Other",
                "unalias": "OSMagics",
                "env": "OSMagics",
                "load_ext": "ExtensionMagics",
                "config": "ConfigMagics",
                "profile": "BasicMagics",
                "pfile": "NamespaceMagics",
                "less": "KernelMagics",
                "who": "NamespaceMagics",
                "notebook": "BasicMagics",
                "man": "KernelMagics",
                "sx": "OSMagics",
                "macro": "ExecutionMagics",
                "clear": "KernelMagics",
                "alias": "OSMagics",
                "time": "ExecutionMagics",
                "sc": "OSMagics",
                "rep": "Other",
                "pdoc": "NamespaceMagics"
              }
            },
            "text/plain": [
              "Available line magics:\n",
              "%alias  %alias_magic  %autocall  %automagic  %autosave  %bookmark  %cat  %cd  %clear  %colors  %config  %connect_info  %cp  %debug  %dhist  %dirs  %doctest_mode  %ed  %edit  %env  %gui  %hist  %history  %killbgscripts  %ldir  %less  %lf  %lk  %ll  %load  %load_ext  %loadpy  %logoff  %logon  %logstart  %logstate  %logstop  %ls  %lsmagic  %lx  %macro  %magic  %man  %matplotlib  %mkdir  %more  %mv  %notebook  %page  %pastebin  %pdb  %pdef  %pdoc  %pfile  %pinfo  %pinfo2  %pip  %popd  %pprint  %precision  %profile  %prun  %psearch  %psource  %pushd  %pwd  %pycat  %pylab  %qtconsole  %quickref  %recall  %rehashx  %reload_ext  %rep  %rerun  %reset  %reset_selective  %rm  %rmdir  %run  %save  %sc  %set_env  %shell  %store  %sx  %system  %tb  %tensorflow_version  %time  %timeit  %unalias  %unload_ext  %who  %who_ls  %whos  %xdel  %xmode\n",
              "\n",
              "Available cell magics:\n",
              "%%!  %%HTML  %%SVG  %%bash  %%bigquery  %%capture  %%debug  %%file  %%html  %%javascript  %%js  %%latex  %%perl  %%prun  %%pypy  %%python  %%python2  %%python3  %%ruby  %%script  %%sh  %%shell  %%svg  %%sx  %%system  %%time  %%timeit  %%writefile\n",
              "\n",
              "Automagic is ON, % prefix IS NOT needed for line magics."
            ]
          },
          "metadata": {
            "tags": []
          },
          "execution_count": 5
        }
      ]
    },
    {
      "cell_type": "code",
      "metadata": {
        "id": "xgWyU1L9PaHI",
        "colab_type": "code",
        "outputId": "72abce03-9976-4113-f135-af22c6ddea5f",
        "colab": {
          "base_uri": "https://localhost:8080/",
          "height": 34
        }
      },
      "source": [
        "# running pwd (Print Working Directory) shows where this notebook is looking for files.\n",
        "# running !cd doesn't change this directory, but using %cd does, try it.\n",
        "# This is because each !system alias is executed in its own bash shell.\n",
        "!cd /\n",
        "!pwd"
      ],
      "execution_count": 0,
      "outputs": [
        {
          "output_type": "stream",
          "text": [
            "/content\n"
          ],
          "name": "stdout"
        }
      ]
    },
    {
      "cell_type": "markdown",
      "metadata": {
        "id": "M6wbkxHRN8zh",
        "colab_type": "text"
      },
      "source": [
        "## Additional Resources (Suggested)\n",
        "\n",
        "[Welcome to Colabortatory](https://colab.research.google.com/notebooks/intro.ipynb)\n",
        "* [More Resources](https://colab.research.google.com/notebooks/intro.ipynb#scrollTo=-Rh3-Vt9Nev9)\n",
        "* [Overview of Colaboratory](/notebooks/basic_features_overview.ipynb)\n",
        "\n",
        "[The cell magics in IPython](https://nbviewer.jupyter.org/github/ipython/ipython/blob/1.x/examples/notebooks/Cell%20Magics.ipynb)"
      ]
    },
    {
      "cell_type": "markdown",
      "metadata": {
        "id": "bjOM5o3aVDzX",
        "colab_type": "text"
      },
      "source": [
        "## 1) Set up SSH\n",
        "The colab container does not run SSH by default, but we can turn it on. \n"
      ]
    },
    {
      "cell_type": "code",
      "metadata": {
        "id": "EzpvcKJLXe1V",
        "colab_type": "code",
        "outputId": "f807622e-af5b-4d22-f130-9a9456ec8353",
        "colab": {
          "base_uri": "https://localhost:8080/",
          "height": 153
        }
      },
      "source": [
        "# What is the name of this container? \n",
        "!hostname\n",
        "# What processes are running? The ssh program (daemon) is called sshd.\n",
        "!ps -ael\n",
        "# Remark:\n",
        "# If your machine gets reset, you'll need to setup SSH again.  When this happens\n",
        "# the machine hostname will change."
      ],
      "execution_count": 0,
      "outputs": [
        {
          "output_type": "stream",
          "text": [
            "ebfd8a1ea738\n",
            "F S   UID     PID    PPID  C PRI  NI ADDR SZ WCHAN  TTY          TIME CMD\n",
            "4 S     0       1       0  0  80   0 -  9798 wait   ?        00:00:00 run.sh\n",
            "4 S     0       9       1  0  80   0 - 170030 epoll_ ?       00:00:00 node\n",
            "4 S     0      19       9  0  80   0 - 102865 epoll_ ?       00:00:01 jupyter-no\n",
            "4 S     0     116       0  0  80   0 -  8972 se_sys ?        00:00:00 tail\n",
            "4 S     0     124      19 14  80   0 - 166952 select ?       00:00:01 python3\n",
            "0 R     0     152     124  0  80   0 - 12644 -      ?        00:00:00 ps\n"
          ],
          "name": "stdout"
        }
      ]
    },
    {
      "cell_type": "code",
      "metadata": {
        "id": "xPi1z6_LdEDR",
        "colab_type": "code",
        "colab": {}
      },
      "source": [
        "# we can look for a particular program name using pgrep, e.g., this command \n",
        "# below looks for sshd.\n",
        "!pgrep -a sshd\n",
        "# No output means a program (i.e., process) with that name is not running.\n",
        "# Remark:\n",
        "# The command `kill -9 PID` can be used to kill particular process ids. "
      ],
      "execution_count": 0,
      "outputs": []
    },
    {
      "cell_type": "code",
      "metadata": {
        "id": "EBuSCKE2VQel",
        "colab_type": "code",
        "outputId": "c5a9a251-f690-4da6-a91f-1dfd205f967b",
        "colab": {
          "base_uri": "https://localhost:8080/",
          "height": 268
        }
      },
      "source": [
        "#Install and configure sshd\n",
        "! apt-get install -qq -o=Dpkg::Use-Pty=0 openssh-server pwgen > /dev/null\n",
        "! mkdir -p /var/run/sshd\n",
        "! echo \"PermitRootLogin yes\" >> /etc/ssh/sshd_config\n",
        "! echo \"PasswordAuthentication yes\" >> /etc/ssh/sshd_config\n",
        "! echo \"LD_LIBRARY_PATH=/usr/lib64-nvidia\" >> /root/.bashrc\n",
        "! echo \"export LD_LIBRARY_PATH\" >> /root/.bashrc\n",
        "\n",
        "#Run sshd in the background \n",
        "get_ipython().system_raw('/usr/sbin/sshd -D &')"
      ],
      "execution_count": 0,
      "outputs": [
        {
          "output_type": "stream",
          "text": [
            "\n",
            "Creating config file /etc/ssh/sshd_config with new version\n",
            "Creating SSH2 RSA key; this may take some time ...\n",
            "2048 SHA256:I1YLGfTeNrEfymofwLlPQ3orug5IMTbVAkn3W37D1LA root@ebfd8a1ea738 (RSA)\n",
            "Creating SSH2 ECDSA key; this may take some time ...\n",
            "256 SHA256:8d0ybfhD7z1ny61tO1eGzAEqxCdOJOku9eDJNx28u10 root@ebfd8a1ea738 (ECDSA)\n",
            "Creating SSH2 ED25519 key; this may take some time ...\n",
            "256 SHA256:SEzi3Z0jFawIWfXPesmsgx8hyHscqHZNOy4mGGSwBZc root@ebfd8a1ea738 (ED25519)\n",
            "Created symlink /etc/systemd/system/sshd.service → /lib/systemd/system/ssh.service.\n",
            "Created symlink /etc/systemd/system/multi-user.target.wants/ssh.service → /lib/systemd/system/ssh.service.\n",
            "invoke-rc.d: could not determine current runlevel\n",
            "invoke-rc.d: policy-rc.d denied execution of start.\n"
          ],
          "name": "stdout"
        }
      ]
    },
    {
      "cell_type": "code",
      "metadata": {
        "id": "-J2CiiHrd7Ju",
        "colab_type": "code",
        "colab": {}
      },
      "source": [
        "# we can look a particular program using pgrep\n",
        "!pgrep -a sshd"
      ],
      "execution_count": 0,
      "outputs": []
    },
    {
      "cell_type": "markdown",
      "metadata": {
        "id": "9wNqJga3Wn0X",
        "colab_type": "text"
      },
      "source": [
        "## 2) Setup a reverse tunnel from Ngrok\n",
        "This should also be possible using SSH -R, it would be a better solution than installing the ngrok command tool."
      ]
    },
    {
      "cell_type": "code",
      "metadata": {
        "id": "DxpfS-IMcil5",
        "colab_type": "code",
        "colab": {}
      },
      "source": [
        "#Install ngrok tools\n",
        "! wget -q -c -nc https://bin.equinox.io/c/4VmDzA7iaHb/ngrok-stable-linux-amd64.zip\n",
        "! unzip -qq -n ngrok-stable-linux-amd64.zip"
      ],
      "execution_count": 0,
      "outputs": []
    },
    {
      "cell_type": "code",
      "metadata": {
        "id": "chr1sGWrhXkW",
        "colab_type": "code",
        "colab": {}
      },
      "source": [
        "#Setup ngrok token\n",
        "print(\"Copy authtoken from https://dashboard.ngrok.com/auth\")\n",
        "import getpass\n",
        "authtoken = getpass.getpass()"
      ],
      "execution_count": 0,
      "outputs": []
    },
    {
      "cell_type": "code",
      "metadata": {
        "id": "hU8X4ZbqWeVk",
        "colab_type": "code",
        "colab": {}
      },
      "source": [
        "#Create tunnel (ONLY RUN THIS ONCE)\n",
        "get_ipython().system_raw('./ngrok authtoken $authtoken && ./ngrok tcp 22 &')"
      ],
      "execution_count": 0,
      "outputs": []
    },
    {
      "cell_type": "code",
      "metadata": {
        "id": "Ydv-TWpdg-gI",
        "colab_type": "code",
        "colab": {}
      },
      "source": [
        "#Get public_url address\n",
        "! curl -s http://localhost:4040/api/tunnels "
      ],
      "execution_count": 0,
      "outputs": []
    },
    {
      "cell_type": "markdown",
      "metadata": {
        "id": "zBfGSubcfzkg",
        "colab_type": "text"
      },
      "source": [
        "## 3) Set and display root password"
      ]
    },
    {
      "cell_type": "code",
      "metadata": {
        "id": "ZxmxhgjJWhgB",
        "colab_type": "code",
        "colab": {}
      },
      "source": [
        "import random, string\n",
        "password = ''.join(random.choice(string.ascii_letters + string.digits) for i in range(20))\n",
        "#Set root password\n",
        "! echo root:$password | chpasswd\n",
        "print('You have set the root password on this machine to: \\n\\n', password)"
      ],
      "execution_count": 0,
      "outputs": []
    },
    {
      "cell_type": "markdown",
      "metadata": {
        "id": "eedWX6WigHOF",
        "colab_type": "text"
      },
      "source": [
        "## You can now remotely connect!\n",
        "\n",
        "Use the following command to login as root (password above).\n",
        "\n",
        "`ssh root@0.tcp.ngrok.io -p XXXXX`\n",
        "\n",
        "Where XXXXX is the port associated with our public URL.\n",
        "E.g., XXXXX = 16308 if your public_url is   `\"public_url\":\"tcp://0.tcp.ngrok.io:16308\"`\n",
        "\n",
        "Try this out from a different machine using a *Terminal Window* and the *Visual Studio Code* using command-P >Remote-SSH:Connect to Host...\n",
        "\n",
        "Note: \n",
        "* If you don't have Remote-SSH, install the ms-vscode-remote.vscode-remote-extensionpack extension.  After you are connected, install the ms-code-python.python extension, and suggested linter on the remote machine.\n",
        "\n",
        "\n"
      ]
    }
  ]
}